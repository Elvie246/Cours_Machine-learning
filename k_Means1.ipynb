{
 "cells": [
  {
   "cell_type": "code",
   "execution_count": 2,
   "metadata": {},
   "outputs": [],
   "source": [
    "import pandas as pd\n",
    "import numpy as np\n",
    "import matplotlib.pyplot as plt\n",
    "from sklearn.cluster import KMeans\n",
    "from sklearn.preprocessing import StandardScaler"
   ]
  },
  {
   "cell_type": "markdown",
   "metadata": {},
   "source": [
    "We will create a DataFrame containing the following three variables for 20 different basketball players:points, assists, rebounds."
   ]
  },
  {
   "cell_type": "code",
   "execution_count": 4,
   "metadata": {},
   "outputs": [
    {
     "name": "stdout",
     "output_type": "stream",
     "text": [
      "   points  assists  rebounds\n",
      "0    18.0      3.0        15\n",
      "1     NaN      3.0        14\n",
      "2    19.0      4.0        14\n",
      "3    14.0      5.0        10\n",
      "4    14.0      4.0         8\n",
      "5    11.0      7.0        14\n",
      "6    20.0      8.0        13\n",
      "7    28.0      7.0         9\n",
      "8    30.0      6.0         5\n",
      "9    31.0      9.0         4\n"
     ]
    }
   ],
   "source": [
    "#create DataFrame\n",
    "df = pd.DataFrame({'points': [18, np.nan, 19, 14, 14, 11, 20, 28, 30, 31,\n",
    "                              35, 33, 29, 25, 25, 27, 29, 30, 19, 23],\n",
    "                   'assists': [3, 3, 4, 5, 4, 7, 8, 7, 6, 9, 12, 14,\n",
    "                               np.nan, 9, 4, 3, 4, 12, 15, 11],\n",
    "                   'rebounds': [15, 14, 14, 10, 8, 14, 13, 9, 5, 4,\n",
    "                                11, 6, 5, 5, 3, 8, 12, 7, 6, 5]})\n",
    "\n",
    "#view first five rows of DataFrame\n",
    "print(df.head(10))"
   ]
  },
  {
   "cell_type": "code",
   "execution_count": null,
   "metadata": {},
   "outputs": [
    {
     "name": "stdout",
     "output_type": "stream",
     "text": [
      "[[-0.86660275 -1.22683918  1.72722524]\n",
      " [-0.72081911 -0.96077767  1.45687694]\n",
      " [-1.44973731 -0.69471616  0.37548375]\n",
      " [-1.44973731 -0.96077767 -0.16521285]\n",
      " [-1.88708823 -0.16259314  1.45687694]]\n"
     ]
    }
   ],
   "source": [
    "#drop rows with NA values in any columns\n",
    "#on supprime les valeurs manquantes donc les lignes\n",
    "df = df.dropna()\n",
    "#on met alors les données à la meme echelle moy 0 ecart type 1\n",
    "#create scaled DataFrame where each variable has mean of 0 and standard dev of 1\n",
    "scaled_df = StandardScaler().fit_transform(df)\n",
    "\n",
    "#view first five rows of scaled DataFrame\n",
    "#scaled_df et un tableau numpy proveant de la normalisation\n",
    "print(scaled_df[:5])"
   ]
  },
  {
   "cell_type": "markdown",
   "metadata": {},
   "source": [
    "Use scaling so that each variable has the same importance when fitting the k-means algorithm. Otherwise, variables with the largest ranges would have too much influence."
   ]
  },
  {
   "cell_type": "code",
   "execution_count": null,
   "metadata": {},
   "outputs": [
    {
     "data": {
      "image/png": "[encoded data removed]",
      "text/plain": [
       "<Figure size 640x480 with 1 Axes>"
      ]
     },
     "metadata": {},
     "output_type": "display_data"
    }
   ],
   "source": [
    "#initialize kmeans parameters\n",
    "#on creer un dictionnaire\n",
    "#on initialise random donc on prend les centres aleatoires au depart\n",
    "#donc l'algo choisit des point aleatoire comme centre au depart \n",
    "kmeans_kwargs = {\n",
    "\"init\": \"random\",\n",
    "\"n_init\": 10,#10 le nombre d'initialisation et choisira la meilleur donc qui minimise la somme des carres des erreurs \n",
    "\"random_state\": 1,#generation de nombre aléatoire\n",
    "}\n",
    "\n",
    "#create list to hold SSE values for each k\n",
    "#on cherche la meilleur valeur de k\n",
    "#sse  va stocker le somme escarrées des erreurs poiur chaque valeur de k \n",
    "sse = []\n",
    "for k in range(1, 11):\n",
    "    #pour chaque iteration le modele crée un nombre de cluster =k, qui cntioent le sparametres du dictionnaire\n",
    "    kmeans = KMeans(n_clusters=k, **kmeans_kwargs)\n",
    "    kmeans.fit(scaled_df)\n",
    "    #une fois terminé on recupre la somme des carres ds erreurs avec inertia\n",
    "    sse.append(kmeans.inertia_)\n",
    "\n",
    "#visualize results\n",
    "plt.plot(range(1, 11), sse)\n",
    "plt.xticks(range(1, 11))\n",
    "plt.xlabel(\"Number of Clusters\")\n",
    "plt.ylabel(\"SSE\")\n",
    "plt.show()"
   ]
  },
  {
   "cell_type": "markdown",
   "metadata": {},
   "source": [
    "We are looking for an \"elbow\" where the sum of squares begins to \"bend\" (plier)or stabilize. This usually indicates the optimal number of clusters."
   ]
  },
  {
   "cell_type": "markdown",
   "metadata": {},
   "source": [
    "In this graph, there appears to be an \"elbow\" at k=3 clusters.\n",
    "\n",
    "Thus, we will use 3 clusters when fitting our k-means clustering model in the next step."
   ]
  },
  {
   "cell_type": "code",
   "execution_count": 7,
   "metadata": {},
   "outputs": [
    {
     "data": {
      "text/plain": [
       "array([2, 2, 2, 2, 2, 2, 1, 1, 0, 0, 0, 0, 1, 1, 1, 0, 0, 0], dtype=int32)"
      ]
     },
     "execution_count": 7,
     "metadata": {},
     "output_type": "execute_result"
    }
   ],
   "source": [
    "#instantiate the k-means class, using optimal number of clusters\n",
    "kmeans = KMeans(init=\"random\", n_clusters=3, n_init=10, random_state=1)\n",
    "\n",
    "#fit k-means algorithm to data\n",
    "kmeans.fit(scaled_df)\n",
    "\n",
    "#view cluster assignments for each observation\n",
    "kmeans.labels_"
   ]
  },
  {
   "cell_type": "markdown",
   "metadata": {},
   "source": [
    "The resulting table shows the cluster assignments for each observation in the DataFrame."
   ]
  },
  {
   "cell_type": "code",
   "execution_count": 6,
   "metadata": {},
   "outputs": [
    {
     "name": "stdout",
     "output_type": "stream",
     "text": [
      "    points  assists  rebounds  cluster\n",
      "0     18.0      3.0        15        2\n",
      "2     19.0      4.0        14        2\n",
      "3     14.0      5.0        10        2\n",
      "4     14.0      4.0         8        2\n",
      "5     11.0      7.0        14        2\n",
      "6     20.0      8.0        13        2\n",
      "7     28.0      7.0         9        1\n",
      "8     30.0      6.0         5        1\n",
      "9     31.0      9.0         4        0\n",
      "10    35.0     12.0        11        0\n",
      "11    33.0     14.0         6        0\n",
      "13    25.0      9.0         5        0\n",
      "14    25.0      4.0         3        1\n",
      "15    27.0      3.0         8        1\n",
      "16    29.0      4.0        12        1\n",
      "17    30.0     12.0         7        0\n",
      "18    19.0     15.0         6        0\n",
      "19    23.0     11.0         5        0\n"
     ]
    }
   ],
   "source": [
    "#append cluster assingments to original DataFrame\n",
    "df['cluster'] = kmeans.labels_\n",
    "\n",
    "#view updated DataFrame\n",
    "print(df)"
   ]
  },
  {
   "cell_type": "markdown",
   "metadata": {},
   "source": [
    "The cluster column contains a cluster number (0, 1, or 2) to which each player has been assigned.\n",
    "\n",
    "Players belonging to the same cluster have roughly similar values in the points, assists (passes décisives), and rebounds columns."
   ]
  },
  {
   "cell_type": "code",
   "execution_count": 8,
   "metadata": {},
   "outputs": [
    {
     "name": "stdout",
     "output_type": "stream",
     "text": [
      "Inertia (SSE) for k=3: 3.8413064829375694\n"
     ]
    }
   ],
   "source": [
    "\n",
    "# Print the inertia\n",
    "print(\"Inertia (SSE) for k=3:\", kmeans.inertia_)"
   ]
  }
 ],
 "metadata": {
  "kernelspec": {
   "display_name": "Python 3",
   "language": "python",
   "name": "python3"
  },
  "language_info": {
   "codemirror_mode": {
    "name": "ipython",
    "version": 3
   },
   "file_extension": ".py",
   "mimetype": "text/x-python",
   "name": "python",
   "nbconvert_exporter": "python",
   "pygments_lexer": "ipython3",
   "version": "3.11.9"
  }
 },
 "nbformat": 4,
 "nbformat_minor": 2
}
